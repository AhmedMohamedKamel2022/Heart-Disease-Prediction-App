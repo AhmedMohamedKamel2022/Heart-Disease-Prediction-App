{
 "cells": [
  {
   "cell_type": "code",
   "execution_count": 2,
   "id": "24a3a483",
   "metadata": {},
   "outputs": [],
   "source": [
    "import joblib\n",
    "import warnings\n",
    "warnings.simplefilter(action='ignore')"
   ]
  },
  {
   "cell_type": "code",
   "execution_count": 3,
   "id": "7061462d",
   "metadata": {},
   "outputs": [],
   "source": [
    "def bmi(x):\n",
    "    if x == 'Underweight':\n",
    "        return [0,0,1]\n",
    "    \n",
    "    elif x == 'Normalweight':\n",
    "        return [0,0,0]\n",
    "    \n",
    "    elif x == 'Overweight':\n",
    "        return [0,1,0]\n",
    "    \n",
    "    elif x =='Obesity':\n",
    "        return [1,0,0]"
   ]
  },
  {
   "cell_type": "code",
   "execution_count": 4,
   "id": "268897f2",
   "metadata": {},
   "outputs": [],
   "source": [
    "def mapping(x):\n",
    "    if x == '0':\n",
    "        return [0,0,0,0]\n",
    "    \n",
    "    elif x == '1-9':\n",
    "        return [1,0,0,0]\n",
    "        \n",
    "    elif x == '10-19':\n",
    "        return [0,1,0,0]\n",
    "    \n",
    "    elif x == '20-29':\n",
    "        return [0,0,1,0]\n",
    "    \n",
    "    elif x == '30':\n",
    "        return [0,0,0,1]"
   ]
  },
  {
   "cell_type": "code",
   "execution_count": 5,
   "id": "96ef9718",
   "metadata": {},
   "outputs": [],
   "source": [
    "def change(x):\n",
    "    if x == '1-4':\n",
    "        return [0,0,0,0]\n",
    "    \n",
    "    elif x == '4-6':\n",
    "        return [0,1,0,0]\n",
    "    \n",
    "    elif x == '6-8':\n",
    "        return [0,0,1,0]\n",
    "    \n",
    "    elif x == '8-12':\n",
    "        return [0,0,0,1]\n",
    "    \n",
    "    elif x in '12-24':\n",
    "        return [1,0,0,0]"
   ]
  },
  {
   "cell_type": "code",
   "execution_count": 6,
   "id": "25dfeead",
   "metadata": {},
   "outputs": [],
   "source": [
    "def yes_no(x):\n",
    "    if x == 'Yes' or x == 'Male' :\n",
    "        return [1]\n",
    "    elif x == 'No' or x == 'Female':\n",
    "        return [0]"
   ]
  },
  {
   "cell_type": "code",
   "execution_count": 7,
   "id": "681e9654",
   "metadata": {},
   "outputs": [],
   "source": [
    "def race(x):\n",
    "    if x == 'Asian':\n",
    "        return [1,0,0,0,0]\n",
    "\n",
    "    elif x == 'Black':\n",
    "        return [0,1,0,0,0]\n",
    "    \n",
    "    elif x == 'Hispanic':\n",
    "        return [0,0,1,0,0]\n",
    "    \n",
    "    elif x == 'Other':\n",
    "        return [0,0,0,1,0]\n",
    "    \n",
    "    elif x == 'White':\n",
    "        return [0,0,0,0,1]\n",
    "    else:\n",
    "        return[0,0,0,0,0]"
   ]
  },
  {
   "cell_type": "code",
   "execution_count": 8,
   "id": "10479f64",
   "metadata": {},
   "outputs": [],
   "source": [
    "def age(x):\n",
    "    if x == '25-29':\n",
    "        return[1,0,0,0,0,0,0,0,0,0,0,0]\n",
    "    \n",
    "    elif x == '30-34':\n",
    "        return[0,1,0,0,0,0,0,0,0,0,0,0]\n",
    "    \n",
    "    elif x == '35-39':\n",
    "        return[0,0,1,0,0,0,0,0,0,0,0,0]\n",
    "    \n",
    "    elif x == '40-44':\n",
    "        return[0,0,0,1,0,0,0,0,0,0,0,0]\n",
    "    \n",
    "    elif x == '45-49':\n",
    "        return[0,0,0,0,1,0,0,0,0,0,0,0]\n",
    "    \n",
    "    elif x == '50-54':\n",
    "        return[0,0,0,0,0,1,0,0,0,0,0,0]\n",
    "    \n",
    "    elif x == '55-59':\n",
    "        return[0,0,0,0,0,0,1,0,0,0,0,0]\n",
    "    \n",
    "    elif x == '60-64':\n",
    "        return[0,0,0,0,0,0,0,1,0,0,0,0]\n",
    "    \n",
    "    elif x == '65-69':\n",
    "        return[0,0,0,0,0,0,0,0,1,0,0,0]\n",
    "    \n",
    "    elif x == '70-74':\n",
    "        return[0,0,0,0,0,0,0,0,0,1,0,0]\n",
    "    \n",
    "    elif x == '75-79':\n",
    "        return[0,0,0,0,0,0,0,0,0,0,1,0]\n",
    "    \n",
    "    elif x == '80 or older':\n",
    "        return[0,0,0,0,0,0,0,0,0,0,0,1]\n",
    "\n",
    "    else:\n",
    "        return[0,0,0,0,0,0,0,0,0,0,0,0]\n"
   ]
  },
  {
   "cell_type": "code",
   "execution_count": 9,
   "id": "de376596",
   "metadata": {},
   "outputs": [],
   "source": [
    "def gen(x):\n",
    "    if x == 'Fair':\n",
    "        return [1,0,0,0]\n",
    "    \n",
    "    elif x == 'Good':\n",
    "        return [0,1,0,0]\n",
    "    \n",
    "    elif x == 'Poor':\n",
    "        return [0,0,1,0]\n",
    "    \n",
    "    elif x == 'Very good':\n",
    "        return [0,0,0,1]\n",
    "    else:\n",
    "        return[0,0,0,0]"
   ]
  },
  {
   "cell_type": "code",
   "execution_count": 10,
   "id": "ead939a2",
   "metadata": {},
   "outputs": [],
   "source": [
    "def User(data):\n",
    "    BMI =  bmi(data['BMI'])\n",
    "    Smoking = yes_no(data['Smoking'])\n",
    "    AlcoholDrinking = yes_no(data['AlcoholDrinking'])\n",
    "    Stroke = yes_no(data['Stroke'])\n",
    "    PhysicalHealth = mapping(data['PhysicalHealth'])\n",
    "    MentalHealth = mapping(data['MentalHealth'])\n",
    "    DiffWalking =  yes_no(data['DiffWalking'])\n",
    "    Sex = yes_no(data['Sex'])\n",
    "    AgeCategory = age(data['AgeCategory'])\n",
    "    Race = race(data['Race'])\n",
    "    Diabetic = yes_no(data['Diabetic'])\n",
    "    PhysicalActivity = yes_no(data['PhysicalActivity'])\n",
    "    GenHealth = gen(data['GenHealth'])\n",
    "    SleepTime = change(data['SleepTime'])\n",
    "    Asthma = yes_no(data['Asthma'])\n",
    "    KidneyDisease = yes_no(data['KidneyDisease'])\n",
    "    SkinCancer = yes_no(data['SkinCancer'])\n",
    "    \n",
    "    Final_Data= Smoking + AlcoholDrinking + Stroke + DiffWalking + Sex + AgeCategory + Race + Diabetic + PhysicalActivity + \\\n",
    "    GenHealth + Asthma + KidneyDisease + SkinCancer + BMI + PhysicalHealth + MentalHealth + SleepTime\n",
    "    \n",
    "    return Final_Data"
   ]
  },
  {
   "cell_type": "code",
   "execution_count": 11,
   "id": "eccc0936",
   "metadata": {},
   "outputs": [],
   "source": [
    "data = {'BMI':'Obesity', 'Smoking':'Yes', 'AlcoholDrinking':'Yes', 'Stroke':'Yes', 'PhysicalHealth':'10-19', \n",
    "        'MentalHealth':'1-9', 'DiffWalking':'Yes', 'Sex':'Female', 'AgeCategory':'18-24', 'Race':'White', 'Diabetic':'Yes',\n",
    "        'PhysicalActivity':'Yes', 'GenHealth':'Poor', 'SleepTime':'12-24', 'Asthma':'Yes', 'KidneyDisease':'Yes', 'SkinCancer':'Yes'}"
   ]
  },
  {
   "cell_type": "code",
   "execution_count": 12,
   "id": "97f81208",
   "metadata": {},
   "outputs": [
    {
     "name": "stdout",
     "output_type": "stream",
     "text": [
      "[1, 1, 1, 1, 0, 0, 0, 0, 0, 0, 0, 0, 0, 0, 0, 0, 0, 0, 0, 0, 0, 1, 1, 1, 0, 0, 1, 0, 1, 1, 1, 1, 0, 0, 0, 1, 0, 0, 1, 0, 0, 0, 1, 0, 0, 0]\n",
      "\n",
      "46\n"
     ]
    }
   ],
   "source": [
    "Final_Data  = User(data)\n",
    "print((Final_Data))\n",
    "print()\n",
    "print(len(Final_Data))"
   ]
  },
  {
   "cell_type": "code",
   "execution_count": 14,
   "id": "d254fbea",
   "metadata": {},
   "outputs": [],
   "source": [
    "model = joblib.load('Models/model.h5')\n",
    "scaler = joblib.load('Models/scaler.h5')"
   ]
  },
  {
   "cell_type": "code",
   "execution_count": 15,
   "id": "6eb4e618",
   "metadata": {},
   "outputs": [
    {
     "data": {
      "text/plain": [
       "array([[-0.05609585, -0.05499345,  0.03319297, -0.09528093, -0.10562207,\n",
       "        -0.16202997, -0.14615573, -0.12107983, -0.09203069, -0.1101226 ,\n",
       "        -0.15381938, -0.12184103, -0.08894216, -0.11458247, -0.15506429,\n",
       "        -0.13978687, -0.03925644, -0.0444592 , -0.05077027, -0.05973406,\n",
       "        -0.06281554,  0.02679356,  0.02791532,  0.03569792, -0.06572893,\n",
       "        -0.06471626,  0.04866487, -0.06165295,  0.0752728 , -0.00610136,\n",
       "         0.00217643, -0.0003587 , -0.1621772 , -0.15658973, -0.15262079,\n",
       "        -0.00781444, -0.08836052, -0.07768388,  0.02712649, -0.04297949,\n",
       "        -0.09600833, -0.11548675, -0.0055033 , -0.16541728, -0.14929279,\n",
       "        -0.14038808]])"
      ]
     },
     "execution_count": 15,
     "metadata": {},
     "output_type": "execute_result"
    }
   ],
   "source": [
    "Final_Data = scaler.transform([Final_Data])\n",
    "Final_Data"
   ]
  },
  {
   "cell_type": "code",
   "execution_count": 16,
   "id": "16ca83d6",
   "metadata": {},
   "outputs": [
    {
     "name": "stdout",
     "output_type": "stream",
     "text": [
      "0\n"
     ]
    }
   ],
   "source": [
    "print(model.predict(Final_Data)[0])"
   ]
  }
 ],
 "metadata": {
  "kernelspec": {
   "display_name": "Python 3",
   "language": "python",
   "name": "python3"
  },
  "language_info": {
   "codemirror_mode": {
    "name": "ipython",
    "version": 3
   },
   "file_extension": ".py",
   "mimetype": "text/x-python",
   "name": "python",
   "nbconvert_exporter": "python",
   "pygments_lexer": "ipython3",
   "version": "3.8.8"
  },
  "vscode": {
   "interpreter": {
    "hash": "4fb1405902f740ee4fcfeefe0ece0a4f4ef2a38357a4f899a95ae33f3b4f197b"
   }
  }
 },
 "nbformat": 4,
 "nbformat_minor": 5
}
